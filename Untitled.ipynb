{
 "cells": [
  {
   "cell_type": "markdown",
   "metadata": {},
   "source": [
    "# SVM Assignment"
   ]
  },
  {
   "cell_type": "markdown",
   "metadata": {},
   "source": [
    "Importing packages:"
   ]
  },
  {
   "cell_type": "code",
   "execution_count": 471,
   "metadata": {},
   "outputs": [],
   "source": [
    "import random , math\n",
    "from scipy.optimize import minimize\n",
    "import matplotlib.pyplot as plt\n",
    "import numpy as np\n",
    "#import pandas as pd\n",
    "#from sklearn import svm\n"
   ]
  },
  {
   "cell_type": "markdown",
   "metadata": {},
   "source": [
    "Data generation:"
   ]
  },
  {
   "cell_type": "code",
   "execution_count": 472,
   "metadata": {},
   "outputs": [
    {
     "name": "stdout",
     "output_type": "stream",
     "text": [
      "N:  40\n"
     ]
    }
   ],
   "source": [
    "#use this to get same randoms every time\n",
    "np.random.seed(100)\n",
    "deviation = 0.3\n",
    "\n",
    "classA = np.concatenate((np.random.randn(10,2)*deviation + [1.5,0],np.random.randn(10,2)*deviation + [-1.5,0]))\n",
    "classB = np.random.randn(20, 2)*deviation + [0.0, -1]\n",
    "\n",
    "inputs = np.concatenate((classA , classB))\n",
    "targets = np.concatenate((np.ones(classA.shape[0]), -np.ones(classB.shape[0])))\n",
    "\n",
    "N = inputs.shape[0] # Number of rows (samples)\n",
    "\n",
    "permute = list(range(N))\n",
    "random.shuffle(permute)\n",
    "inputs = inputs[permute, :]\n",
    "targets = targets[permute]\n",
    "\n",
    "#types = linear, polynomial, rbf\n",
    "kernel_type = \"rbf\"\n",
    "C = 100\n",
    "poly = 5\n",
    "sigma = 4\n",
    "\n",
    "\n",
    "print(\"N: \",N)"
   ]
  },
  {
   "cell_type": "markdown",
   "metadata": {},
   "source": [
    "Data plot:"
   ]
  },
  {
   "cell_type": "code",
   "execution_count": 473,
   "metadata": {},
   "outputs": [
    {
     "data": {
      "image/png": "[encoded data removed]",
      "text/plain": [
       "<Figure size 432x288 with 1 Axes>"
      ]
     },
     "metadata": {
      "needs_background": "light"
     },
     "output_type": "display_data"
    }
   ],
   "source": [
    "plt.plot([p[0] for p in classA],[p[1] for p in classA], 'b. ')\n",
    "plt.plot([p[0] for p in classB],[p[1] for p in classB], 'r. ')\n",
    "\n",
    "plt.axis('equal')\n",
    "#plt.savefig('svmplot.pdf')\n",
    "plt.show()"
   ]
  },
  {
   "cell_type": "markdown",
   "metadata": {},
   "source": [
    "A suitable kernel function:"
   ]
  },
  {
   "cell_type": "code",
   "execution_count": 474,
   "metadata": {},
   "outputs": [],
   "source": [
    "#def linear_kernel(x,y):\n",
    "#    return np.dot(x,y)\n",
    "\n",
    "#def polynomial_kernel(x,y,p):\n",
    "#    return np.dot(x,y+1)**p\n",
    "\n",
    "#def rbf_kernel(x,y,s):\n",
    "#    return np.exp((np.subtract(x,y))**2/(2*(s**2)))\n",
    "    \n",
    "    \n",
    "def kernel(x,y):\n",
    "    if kernel_type == \"linear\":\n",
    "        return np.dot(x,y)\n",
    "    elif kernel_type == \"polynomial\":\n",
    "        return (np.dot(x,y)+1)**poly\n",
    "    elif kernel_type == \"rbf\":\n",
    "        return np.exp(-np.linalg.norm((np.subtract(x,y)),2)**2/(2*(sigma**2)))\n",
    "    else:\n",
    "        print(\"wrong kernel type\")\n",
    "        return 0\n",
    "    "
   ]
  },
  {
   "cell_type": "markdown",
   "metadata": {},
   "source": [
    "Store global variables:"
   ]
  },
  {
   "cell_type": "code",
   "execution_count": 475,
   "metadata": {},
   "outputs": [
    {
     "name": "stdout",
     "output_type": "stream",
     "text": [
      "P:  [[ 1.         -0.90322646 -0.86256254 ...  0.76743352 -0.8826119\n",
      "  -0.84741773]\n",
      " [-0.90322646  1.          0.99316141 ... -0.91115521  0.99813704\n",
      "   0.99229702]\n",
      " [-0.86256254  0.99316141  1.         ... -0.94666411  0.9923299\n",
      "   0.99574721]\n",
      " ...\n",
      " [ 0.76743352 -0.91115521 -0.94666411 ...  1.         -0.90185538\n",
      "  -0.91952673]\n",
      " [-0.8826119   0.99813704  0.9923299  ... -0.90185538  1.\n",
      "   0.99648038]\n",
      " [-0.84741773  0.99229702  0.99574721 ... -0.91952673  0.99648038\n",
      "   1.        ]]\n",
      "rows P:  40\n",
      "columns P:  40\n"
     ]
    }
   ],
   "source": [
    "P = np.zeros((N,N))\n",
    "\n",
    "for i in range(N):\n",
    "    for j in range(N):\n",
    "        P[i][j] = targets[i]*targets[j]*kernel(inputs[i],inputs[j])\n",
    "\n",
    "print(\"P: \",P)\n",
    "print(\"rows P: \", len(P))\n",
    "print(\"columns P: \", len(P[0]))\n"
   ]
  },
  {
   "cell_type": "markdown",
   "metadata": {},
   "source": [
    "objective function:"
   ]
  },
  {
   "cell_type": "code",
   "execution_count": 476,
   "metadata": {},
   "outputs": [],
   "source": [
    "def objective(alpha):\n",
    "    term2 = 0\n",
    "\n",
    "    for i in range(N):\n",
    "        term2 += alpha[i]\n",
    "\n",
    "    dual_form = 1/2 * np.dot(alpha, np.dot(alpha,P)) - term2\n",
    "    \n",
    "    return dual_form\n",
    "    \n",
    "    \n"
   ]
  },
  {
   "cell_type": "markdown",
   "metadata": {},
   "source": [
    "zerofun function:"
   ]
  },
  {
   "cell_type": "code",
   "execution_count": 477,
   "metadata": {},
   "outputs": [],
   "source": [
    "def zerofun(alpha):\n",
    "#    constraint_succes = true\n",
    "#    for i in range(N):\n",
    "#        if alpha[i] < 0 or alpha[i] > C:\n",
    "#            constraint_succes = false\n",
    "#    \n",
    "#    if np.dot(alpha, targets) != 0:\n",
    "#        constraint_succes = false\n",
    "    \n",
    "#    return constraint_succes \n",
    "    return np.dot(alpha, targets)\n",
    "    "
   ]
  },
  {
   "cell_type": "markdown",
   "metadata": {},
   "source": [
    "extract non-zero alpha-values:"
   ]
  },
  {
   "cell_type": "code",
   "execution_count": 478,
   "metadata": {},
   "outputs": [],
   "source": [
    "def extract(alpha):\n",
    "    alpha_nonzero = []\n",
    "    inputs_nonzero = []\n",
    "    targets_nonzero = []\n",
    "    \n",
    "    for i in range(N):\n",
    "        if alpha[i] > 10**-5:\n",
    "            alpha_nonzero.append(alpha[i])\n",
    "            inputs_nonzero.append(inputs[i])\n",
    "            targets_nonzero.append(targets[i])\n",
    "                \n",
    "    return alpha_nonzero, inputs_nonzero, targets_nonzero"
   ]
  },
  {
   "cell_type": "markdown",
   "metadata": {},
   "source": [
    "calculate b value"
   ]
  },
  {
   "cell_type": "code",
   "execution_count": 479,
   "metadata": {},
   "outputs": [],
   "source": [
    "def calc_b(alpha, inputs_nonzero, targets_nonzero):\n",
    "    s = inputs_nonzero[0]\n",
    "    ts = targets_nonzero[0]\n",
    "    \n",
    "    sum_b = 0\n",
    "    for i in range(N):\n",
    "        sum_b += alpha[i]*targets[i]*kernel(s,inputs[i])\n",
    "    \n",
    "    return sum_b - ts"
   ]
  },
  {
   "cell_type": "markdown",
   "metadata": {},
   "source": [
    "indicator function:"
   ]
  },
  {
   "cell_type": "code",
   "execution_count": 480,
   "metadata": {},
   "outputs": [],
   "source": [
    "def indicator(s, alpha, b):\n",
    "    sum_ind = 0\n",
    "    for i in range(N):\n",
    "        sum_ind += alpha[i]*targets[i]*kernel(s, inputs[i])\n",
    "    \n",
    "    return sum_ind - b"
   ]
  },
  {
   "cell_type": "markdown",
   "metadata": {},
   "source": [
    "main: (call minimize, select non-zeros, call calc_b, call indicator)"
   ]
  },
  {
   "cell_type": "code",
   "execution_count": 481,
   "metadata": {},
   "outputs": [
    {
     "name": "stdout",
     "output_type": "stream",
     "text": [
      "alpha_nonzero:  [99.9999999999975, 99.99999999999582, 64.5787996261979, 99.99999999999577, 35.421200373799564]\n",
      "inputs_nonzero:  [array([-0.2586682 , -0.62515908]), array([-0.48407355, -0.55878584]), array([ 1.36855931, -0.33549547]), array([-1.14311332, -0.50718505]), array([-1.43328012, -0.4329651 ])]\n",
      "targets_nonzero:  [-1.0, -1.0, 1.0, 1.0, 1.0]\n",
      "b:  -8.103021719447607\n"
     ]
    }
   ],
   "source": [
    "B = [(0, C) for b in range(N)]\n",
    "start = np.zeros(N)\n",
    "XC = {'type':'eq', 'fun':zerofun}\n",
    "ret = minimize(objective,start,bounds=B,constraints=XC)\n",
    "alpha = ret['x']\n",
    "alpha_nonzero, inputs_nonzero, targets_nonzero = extract(alpha)\n",
    "print(\"alpha_nonzero: \",alpha_nonzero)\n",
    "print(\"inputs_nonzero: \",inputs_nonzero)\n",
    "print(\"targets_nonzero: \",targets_nonzero)\n",
    "\n",
    "b = calc_b(alpha, inputs_nonzero, targets_nonzero)\n",
    "print(\"b: \",b)\n"
   ]
  },
  {
   "cell_type": "markdown",
   "metadata": {},
   "source": [
    "plotting:"
   ]
  },
  {
   "cell_type": "code",
   "execution_count": 482,
   "metadata": {
    "scrolled": true
   },
   "outputs": [
    {
     "data": {
      "image/png": "[encoded data removed]",
      "text/plain": [
       "<Figure size 432x288 with 1 Axes>"
      ]
     },
     "metadata": {
      "needs_background": "light"
     },
     "output_type": "display_data"
    }
   ],
   "source": [
    "plt.plot([p[0] for p in classA],[p[1] for p in classA], 'b. ')\n",
    "plt.plot([p[0] for p in classB],[p[1] for p in classB], 'r. ')\n",
    "\n",
    "plt.axis('equal')\n",
    "#plt.savefig('dataplot.pdf')\n",
    "\n",
    "xgrid = np.linspace(-5,5)\n",
    "ygrid = np.linspace(-4,4)\n",
    "\n",
    "grid = np.array([[indicator(np.array([x,y]),alpha, b) for x in xgrid] for y in ygrid])\n",
    "\n",
    "plt.contour(xgrid, ygrid, grid, (-1.0, 0.0, 1.0), colors=('red','black','blue'),linewidths = (1, 3, 1))\n",
    "\n",
    "\n",
    "plt.savefig('linearplot_c100_d0.3.jpg')\n",
    "plt.show()"
   ]
  },
  {
   "cell_type": "code",
   "execution_count": null,
   "metadata": {},
   "outputs": [],
   "source": []
  },
  {
   "cell_type": "code",
   "execution_count": null,
   "metadata": {},
   "outputs": [],
   "source": []
  }
 ],
 "metadata": {
  "kernelspec": {
   "display_name": "Python 3",
   "language": "python",
   "name": "python3"
  },
  "language_info": {
   "codemirror_mode": {
    "name": "ipython",
    "version": 3
   },
   "file_extension": ".py",
   "mimetype": "text/x-python",
   "name": "python",
   "nbconvert_exporter": "python",
   "pygments_lexer": "ipython3",
   "version": "3.7.3"
  }
 },
 "nbformat": 4,
 "nbformat_minor": 2
}
